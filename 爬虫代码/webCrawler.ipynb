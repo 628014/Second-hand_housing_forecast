{
 "cells": [
  {
   "cell_type": "code",
   "execution_count": 5,
   "id": "a2080cd3",
   "metadata": {
    "scrolled": false
   },
   "outputs": [
    {
     "name": "stdout",
     "output_type": "stream",
     "text": [
      "二手房-jinjiang第3次下载\n"
     ]
    },
    {
     "data": {
      "text/html": [
       "前75页数据已保存<p>前80页数据已保存<p>前85页数据已保存<p>前90页数据已保存<p>前95页数据已保存<p>前100页数据已保存"
      ],
      "text/plain": [
       "<IPython.core.display.HTML object>"
      ]
     },
     "metadata": {},
     "output_type": "display_data"
    },
    {
     "name": "stdout",
     "output_type": "stream",
     "text": [
      "二手房-gaoxin7第3次下载\n"
     ]
    },
    {
     "data": {
      "text/html": [
       "前75页数据已保存<p>前80页数据已保存<p>前85页数据已保存<p>前90页数据已保存<p>前95页数据已保存<p>前100页数据已保存"
      ],
      "text/plain": [
       "<IPython.core.display.HTML object>"
      ]
     },
     "metadata": {},
     "output_type": "display_data"
    },
    {
     "name": "stdout",
     "output_type": "stream",
     "text": [
      "二手房-qingyang第3次下载\n"
     ]
    },
    {
     "data": {
      "text/html": [
       "前75页数据已保存<p>前80页数据已保存<p>前85页数据已保存<p>前90页数据已保存<p>前95页数据已保存<p>前100页数据已保存"
      ],
      "text/plain": [
       "<IPython.core.display.HTML object>"
      ]
     },
     "metadata": {},
     "output_type": "display_data"
    },
    {
     "name": "stdout",
     "output_type": "stream",
     "text": [
      "二手房-jinniu第3次下载\n"
     ]
    },
    {
     "data": {
      "text/html": [
       "前75页数据已保存<p>前80页数据已保存<p>前85页数据已保存<p>前90页数据已保存<p>前95页数据已保存<p>前100页数据已保存"
      ],
      "text/plain": [
       "<IPython.core.display.HTML object>"
      ]
     },
     "metadata": {},
     "output_type": "display_data"
    }
   ],
   "source": [
    "# 链家网数据爬取\n",
    "# 参考博客：https://blog.csdn.net/qq_46256922/article/details/119087591\n",
    "import pandas as pd # 数据存储\n",
    "import requests # 网页内容获取\n",
    "import re # 解析数据\n",
    "from lxml import etree # 解析数据\n",
    "import random \n",
    "import time # 反反爬\n",
    "from fastprogress import master_bar,progress_bar # 进度条显示\n",
    "def ua():\n",
    "    \"\"\"随机获取一个浏览器用户信息\"\"\"\n",
    "    \n",
    "    user_agents = [\n",
    "    'Mozilla/5.0 (Windows; U; Windows NT 5.1; it; rv:1.8.1.11) Gecko/20071127 Firefox/2.0.0.11',\n",
    "    'Opera/9.25 (Windows NT 5.1; U; en)',\n",
    "    'Mozilla/4.0 (compatible; MSIE 6.0; Windows NT 5.1; SV1; .NET CLR 1.1.4322; .NET CLR 2.0.50727)',\n",
    "    'Mozilla/5.0 (compatible; Konqueror/3.5; Linux) KHTML/3.5.5 (like Gecko) (Kubuntu)',\n",
    "    'Mozilla/5.0 (X11; U; Linux i686; en-US; rv:1.8.0.12) Gecko/20070731 Ubuntu/dapper-security Firefox/1.5.0.12',\n",
    "    'Lynx/2.8.5rel.1 libwww-FM/2.14 SSL-MM/1.4.1 GNUTLS/1.2.9',\n",
    "    'Mozilla/5.0 (X11; Linux i686) AppleWebKit/535.7 (KHTML, like Gecko) Ubuntu/11.04 Chromium/16.0.912.77 Chrome/16.0.912.77 Safari/535.7',\n",
    "    'Mozilla/5.0 (X11; Ubuntu; Linux i686; rv:10.0) Gecko/20100101 Firefox/10.0',\n",
    "    ]\n",
    "\n",
    "    agent = random.choice(user_agents)\n",
    "    \n",
    "    return {\n",
    "        'User-Agent': agent\n",
    "    }\n",
    "\n",
    "\n",
    "def get(url):\n",
    "    \"\"\"\n",
    "    获取网页源码\n",
    "    url: 目标网页的地址\n",
    "    return:网页源码\n",
    "    \"\"\"\n",
    "    res = requests.get(url=url, headers = ua())\n",
    "    return res.text\n",
    "\n",
    "def get_url(res_text):\n",
    "    \"\"\"\n",
    "    获取源码中每个二手房详情页的url\n",
    "    res_text:网页源码\n",
    "    return:列表形式的30个二手房详情页的url\n",
    "    \"\"\"\n",
    "    re_f = '<a class=\"\" href=\"(.*?)\" target=\"_blank\"'\n",
    "    url_list = re.findall(re_f, res_text)\n",
    "    return url_list\n",
    "\n",
    "def get_else_data(res_text):\n",
    "    \n",
    "    res_text = etree.HTML(res_text)\n",
    "    \n",
    "    title = res_text.xpath(\"//div[@class='sellDetailHeader']//h1/@title\")\n",
    "\n",
    "    return dict(zip(['标题'], [title]))\n",
    "\n",
    "def get_data(res_text):\n",
    "    \"\"\"获取房屋的详细数据\"\"\"\n",
    "    res_text = etree.HTML(res_text)\n",
    "    # 获取房屋的标题\n",
    "    title = res_text.xpath(\"//div[@class='sellDetailHeader']//h1/@title\")\n",
    "    # 获取房屋的总价\n",
    "    total_price = res_text.xpath(\"//div[@class='overview']//div/span/text()\")[1]\n",
    "    # 获取房屋的单价\n",
    "    price = res_text.xpath(\"//div[@class='overview']//div/span/text()\")[2]\n",
    "    # 获取房屋的地段\n",
    "    communityName = res_text.xpath(\"//div[@class='aroundInfo']//div/a/text()\")[0]\n",
    "    \n",
    "    regionName = res_text.xpath(\"//div[@class='areaName']//span/a/text()\")[0]\n",
    "    # 获取区域\n",
    "    areaName = res_text.xpath(\"//div[@class='areaName']//span/a/text()\")[1]\n",
    "    \n",
    "    \n",
    "    ## 房屋基本信息获取\n",
    "    # 获取房屋基本信息的标题\n",
    "    lab = res_text.xpath(\"//div[@class='base']//span/text()\")\n",
    "    # 获取房屋基本信息的内容\n",
    "    val = res_text.xpath(\"//div[@class='base']//li/text()\")\n",
    "    \n",
    "    ## 获取房源交易信息\n",
    "    # 获取房源交易标题\n",
    "    key1 = res_text.xpath(\"//div[@class='transaction']//span[1]//text()\")\n",
    "    # 获取房源交易信息内容\n",
    "    trans = res_text.xpath(\"//div[@class='transaction']//span[2]//text()\")\n",
    "    \n",
    "    # 返回包含上述信息的字典\n",
    "    return dict(zip(['标题', '总价格', '单价', '小区','房屋所属市辖区','房屋地址（街道）'] + lab + key1 ,\n",
    "                    [title, total_price, price, communityName,regionName,areaName] + val + trans))\n",
    "def main(qu,start_pg=1, end_pg=100, download_times=1):\n",
    "    \"\"\"爬虫程序\n",
    "    qu: 传入要爬取的qu的拼音的列表\n",
    "    start_pg:开始的页码\n",
    "    end_pg:结束的页码\n",
    "    download_times:第几次下载\n",
    "    \"\"\"\n",
    "    for q in qu:\n",
    "        # 获取链家网（绵阳）的首页url,同学们可以换成自己想要的城市url\n",
    "        url = 'https://cd.lianjia.com/ershoufang/' + q + '/pg'\n",
    "        # 数据储存的列表\n",
    "        data = []\n",
    "        # 文件保存路径\n",
    "        filename = './data1/二手房-' + q +'第' + str(download_times) + '次下载.csv'\n",
    "#         print(filename)\n",
    "        \n",
    "        print('二手房-' + q +'第' + str(download_times) + '次下载')\n",
    "        mb = master_bar(range(start_pg, end_pg+1))\n",
    "    \n",
    "        for i in mb:\n",
    "            \n",
    "            # 获取每页的url\n",
    "            new_url = url + str(i) + '/'\n",
    "#             print(new_url)\n",
    "            \n",
    "            # 获取当前页面包含的30个房屋详情页的url\n",
    "            url_list = get_url(get(new_url))\n",
    "\n",
    "            for l in progress_bar(range(len(url_list)),parent=mb):\n",
    "                \n",
    "                # 反爬随机停止一段时间\n",
    "                a = random.randint(2, 5)\n",
    "                if l % a == 0:\n",
    "                    time.sleep(2 * random.random())\n",
    "                try:\n",
    "                    # 获取当前页面的源码\n",
    "                    text = get(url_list[l])\n",
    "                    # 获取当前页面的房屋信息\n",
    "                    data.append(get_data(text))\n",
    "                except Exception as e:\n",
    "                    time.sleep(100 * random.random())\n",
    "                    # 获取当前页面的源码\n",
    "                    text = get(url_list[l])\n",
    "                    # 获取当前页面的房屋信息\n",
    "                    data.append(get_data(text))\n",
    "                    \n",
    "                # 反爬随机停止一段时间\n",
    "                time.sleep(5 * random.random())\n",
    "                mb.child.comment = '正在爬取第'+str(l + 1) +'条数据!!'\n",
    "            mb.main_bar.comment = '正在爬取第'+str(i+1) +'页数据!!'\n",
    "            \n",
    "            # 反爬随机停止一段时间\n",
    "            time.sleep(5 * random.random())\n",
    "            \n",
    "            if i % 5 == 0:\n",
    "                # 每5页保存一次数据\n",
    "                pd.DataFrame(data).to_csv(filename)\n",
    "                mb.write('前'+str(i)+'页数据已保存')\n",
    "    pd.DataFrame(data).to_csv(filename)\n",
    "# 例如\n",
    "main([\"jinjiang\",\"gaoxin7\",\"qingyang\",\"jinniu\"],71,100,3) # 区，开始页，结束页，第几次下载（以便保存文件）"
   ]
  },
  {
   "cell_type": "code",
   "execution_count": null,
   "id": "f4cf8ad8",
   "metadata": {},
   "outputs": [],
   "source": []
  },
  {
   "cell_type": "code",
   "execution_count": null,
   "id": "7d2843c7",
   "metadata": {},
   "outputs": [],
   "source": []
  }
 ],
 "metadata": {
  "kernelspec": {
   "display_name": "Python 3",
   "language": "python",
   "name": "python3"
  },
  "language_info": {
   "codemirror_mode": {
    "name": "ipython",
    "version": 3
   },
   "file_extension": ".py",
   "mimetype": "text/x-python",
   "name": "python",
   "nbconvert_exporter": "python",
   "pygments_lexer": "ipython3",
   "version": "3.8.8"
  }
 },
 "nbformat": 4,
 "nbformat_minor": 5
}
