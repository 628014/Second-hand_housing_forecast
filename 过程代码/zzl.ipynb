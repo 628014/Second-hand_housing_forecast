{
 "cells": [
  {
   "cell_type": "code",
   "execution_count": 1,
   "id": "dba8b9ee",
   "metadata": {},
   "outputs": [],
   "source": [
    "import pandas as pd\n",
    "import numpy as np\n",
    "import matplotlib.pyplot as plt\n",
    "import seaborn as sns"
   ]
  },
  {
   "cell_type": "code",
   "execution_count": 2,
   "id": "3ce893a3",
   "metadata": {
    "scrolled": true
   },
   "outputs": [],
   "source": [
    "filepath1 = '二手房-chenghua第1次下载.csv'\n",
    "data1 = pd.read_csv(filepath1,index_col=0)"
   ]
  },
  {
   "cell_type": "code",
   "execution_count": 3,
   "id": "dfe27bcd",
   "metadata": {},
   "outputs": [],
   "source": [
    "filepath2 = '二手房-chenghua第2次下载.csv'\n",
    "data2 = pd.read_csv(filepath2,index_col=0)"
   ]
  },
  {
   "cell_type": "code",
   "execution_count": 4,
   "id": "e7ebf210",
   "metadata": {},
   "outputs": [],
   "source": [
    "filepath3 = '二手房-chongzhou1第1次下载.csv'\n",
    "data3 = pd.read_csv(filepath3,index_col=0)"
   ]
  },
  {
   "cell_type": "code",
   "execution_count": 5,
   "id": "5e9362b0",
   "metadata": {},
   "outputs": [],
   "source": [
    "filepath4 = '二手房-doujiangyan第1次下载.csv'\n",
    "data4 = pd.read_csv(filepath4,index_col=0)"
   ]
  },
  {
   "cell_type": "code",
   "execution_count": 6,
   "id": "686d5ea0",
   "metadata": {},
   "outputs": [],
   "source": [
    "filepath5 = '二手房-gaoxin7第1次下载.csv'\n",
    "data5 = pd.read_csv(filepath5,index_col=0)"
   ]
  },
  {
   "cell_type": "code",
   "execution_count": 7,
   "id": "a33c7c99",
   "metadata": {},
   "outputs": [],
   "source": [
    "filepath6 = '二手房-gaoxin7第2次下载.csv'\n",
    "data6 = pd.read_csv(filepath6,index_col=0)"
   ]
  },
  {
   "cell_type": "code",
   "execution_count": 8,
   "id": "5d7881aa",
   "metadata": {},
   "outputs": [],
   "source": [
    "filepath7 = '二手房-gaoxinxi1第1次下载.csv'\n",
    "data7 = pd.read_csv(filepath7,index_col=0)"
   ]
  },
  {
   "cell_type": "code",
   "execution_count": 9,
   "id": "c8d36b02",
   "metadata": {},
   "outputs": [],
   "source": [
    "filepath8 = '二手房-jianyang第1次下载.csv'\n",
    "data8 = pd.read_csv(filepath8,index_col=0)"
   ]
  },
  {
   "cell_type": "code",
   "execution_count": 10,
   "id": "3f002a50",
   "metadata": {},
   "outputs": [],
   "source": [
    "filepath9 = '二手房-jinjiang第1次下载.csv'\n",
    "data9 = pd.read_csv(filepath9,index_col=0)"
   ]
  },
  {
   "cell_type": "code",
   "execution_count": 11,
   "id": "4aab2797",
   "metadata": {},
   "outputs": [],
   "source": [
    "filepath10 = '二手房-jinjiang第2次下载.csv'\n",
    "data10 = pd.read_csv(filepath10,index_col=0)"
   ]
  },
  {
   "cell_type": "code",
   "execution_count": 12,
   "id": "bc1f18d5",
   "metadata": {},
   "outputs": [],
   "source": [
    "filepath11 = '二手房-jinniu第1次下载.csv'\n",
    "data11 = pd.read_csv(filepath11,index_col=0)"
   ]
  },
  {
   "cell_type": "code",
   "execution_count": 13,
   "id": "8690ac53",
   "metadata": {},
   "outputs": [],
   "source": [
    "filepath12 = '二手房-jinniu第2次下载.csv'\n",
    "data12 = pd.read_csv(filepath12,index_col=0)"
   ]
  },
  {
   "cell_type": "code",
   "execution_count": 14,
   "id": "8fc64457",
   "metadata": {},
   "outputs": [],
   "source": [
    "filepath13 = '二手房-jintang第1次下载.csv'\n",
    "data13 = pd.read_csv(filepath13,index_col=0)"
   ]
  },
  {
   "cell_type": "code",
   "execution_count": 15,
   "id": "b25483ca",
   "metadata": {},
   "outputs": [],
   "source": [
    "filepath14 = '二手房-longquanyi第1次下载.csv'\n",
    "data14 = pd.read_csv(filepath14,index_col=0)"
   ]
  },
  {
   "cell_type": "code",
   "execution_count": 16,
   "id": "38ac301d",
   "metadata": {},
   "outputs": [],
   "source": [
    "filepath15 = '二手房-pengzhou第1次下载.csv'\n",
    "data15 = pd.read_csv(filepath15,index_col=0)"
   ]
  },
  {
   "cell_type": "code",
   "execution_count": 17,
   "id": "b6235839",
   "metadata": {},
   "outputs": [],
   "source": [
    "filepath16 = '二手房-pidou第1次下载.csv'\n",
    "data16 = pd.read_csv(filepath16,index_col=0)"
   ]
  },
  {
   "cell_type": "code",
   "execution_count": 18,
   "id": "01eb34f5",
   "metadata": {},
   "outputs": [],
   "source": [
    "filepath17 = '二手房-qingbaijiang第1次下载.csv'\n",
    "data17 = pd.read_csv(filepath17,index_col=0)"
   ]
  },
  {
   "cell_type": "code",
   "execution_count": 19,
   "id": "69d184e3",
   "metadata": {},
   "outputs": [],
   "source": [
    "filepath18 = '二手房-qingyang第1次下载.csv'\n",
    "data18 = pd.read_csv(filepath11,index_col=0)"
   ]
  },
  {
   "cell_type": "code",
   "execution_count": 20,
   "id": "85f70111",
   "metadata": {},
   "outputs": [],
   "source": [
    "filepath19 = '二手房-qingyang第2次下载.csv'\n",
    "data19 = pd.read_csv(filepath19,index_col=0)"
   ]
  },
  {
   "cell_type": "code",
   "execution_count": 21,
   "id": "7dfc2989",
   "metadata": {},
   "outputs": [],
   "source": [
    "filepath20 = '二手房-shuangliu第1次下载.csv'\n",
    "data20 = pd.read_csv(filepath20,index_col=0)"
   ]
  },
  {
   "cell_type": "code",
   "execution_count": 22,
   "id": "66858b95",
   "metadata": {},
   "outputs": [],
   "source": [
    "filepath21 = '二手房-tianfuxinqu第1次下载.csv'\n",
    "data21 = pd.read_csv(filepath21,index_col=0)"
   ]
  },
  {
   "cell_type": "code",
   "execution_count": 23,
   "id": "209d5899",
   "metadata": {},
   "outputs": [],
   "source": [
    "filepath22 = '二手房-tianfuxinqu第2次下载.csv'\n",
    "data22 = pd.read_csv(filepath22,index_col=0)"
   ]
  },
  {
   "cell_type": "code",
   "execution_count": 24,
   "id": "576df87e",
   "metadata": {},
   "outputs": [],
   "source": [
    "filepath23 = '二手房-wenjiang第1次下载.csv'\n",
    "data23 = pd.read_csv(filepath23,index_col=0)"
   ]
  },
  {
   "cell_type": "code",
   "execution_count": 25,
   "id": "248e3422",
   "metadata": {},
   "outputs": [],
   "source": [
    "filepath24 = '二手房-wuhou第1次下载.csv'\n",
    "data24 = pd.read_csv(filepath24,index_col=0)"
   ]
  },
  {
   "cell_type": "code",
   "execution_count": 26,
   "id": "6206f8f3",
   "metadata": {},
   "outputs": [],
   "source": [
    "filepath25 = '二手房-wuhou第2次下载.csv'\n",
    "data25 = pd.read_csv(filepath25,index_col=0)"
   ]
  },
  {
   "cell_type": "code",
   "execution_count": 27,
   "id": "d1cac26a",
   "metadata": {},
   "outputs": [],
   "source": [
    "filepath26 = '二手房-xindou第1次下载.csv'\n",
    "data26 = pd.read_csv(filepath26,index_col=0)"
   ]
  },
  {
   "cell_type": "code",
   "execution_count": 28,
   "id": "87199180",
   "metadata": {},
   "outputs": [],
   "source": [
    "filepath27 = '二手房-xinjin第1次下载.csv'\n",
    "data27 = pd.read_csv(filepath27,index_col=0)"
   ]
  },
  {
   "cell_type": "code",
   "execution_count": 29,
   "id": "1bba8d7b",
   "metadata": {},
   "outputs": [],
   "source": [
    "filepath28 = '二手房-chenghua第3次下载.csv'\n",
    "data28 = pd.read_csv(filepath28,index_col=0)"
   ]
  },
  {
   "cell_type": "code",
   "execution_count": 30,
   "id": "ad7e2475",
   "metadata": {},
   "outputs": [],
   "source": [
    "filepath29 = '二手房-gaoxin7第3次下载.csv'\n",
    "data29 = pd.read_csv(filepath29,index_col=0)"
   ]
  },
  {
   "cell_type": "code",
   "execution_count": 31,
   "id": "1fa1a129",
   "metadata": {},
   "outputs": [],
   "source": [
    "filepath30 = '二手房-jinjiang第3次下载.csv'\n",
    "data30 = pd.read_csv(filepath30,index_col=0)"
   ]
  },
  {
   "cell_type": "code",
   "execution_count": 32,
   "id": "77c4ff7d",
   "metadata": {},
   "outputs": [],
   "source": [
    "filepath31 = '二手房-jinniu第3次下载.csv'\n",
    "data31 = pd.read_csv(filepath31,index_col=0)"
   ]
  },
  {
   "cell_type": "code",
   "execution_count": 33,
   "id": "df23dd61",
   "metadata": {},
   "outputs": [],
   "source": [
    "filepath32 = '二手房-qingyang第3次下载.csv'\n",
    "data32 = pd.read_csv(filepath32,index_col=0)"
   ]
  },
  {
   "cell_type": "code",
   "execution_count": 34,
   "id": "3c767012",
   "metadata": {},
   "outputs": [],
   "source": [
    "data1.to_csv('data.csv',index=False)\n",
    "data2.to_csv('data.csv',mode='a+', index=False,  header=False)\n",
    "data3.to_csv('data.csv',mode='a+', index=False,  header=False)\n",
    "data4.to_csv('data.csv',mode='a+', index=False,  header=False)\n",
    "data5.to_csv('data.csv',mode='a+', index=False,  header=False)\n",
    "data6.to_csv('data.csv',mode='a+', index=False,  header=False)\n",
    "data7.to_csv('data.csv',mode='a+', index=False,  header=False)\n",
    "data8.to_csv('data.csv',mode='a+', index=False,  header=False)\n",
    "data9.to_csv('data.csv',mode='a+', index=False,  header=False)\n",
    "data10.to_csv('data.csv',mode='a+', index=False,  header=False)\n",
    "data11.to_csv('data.csv',mode='a+', index=False,  header=False)\n",
    "data12.to_csv('data.csv',mode='a+', index=False,  header=False)\n",
    "data13.to_csv('data.csv',mode='a+', index=False,  header=False)\n",
    "data14.to_csv('data.csv',mode='a+', index=False,  header=False)\n",
    "data15.to_csv('data.csv',mode='a+', index=False,  header=False)\n",
    "data16.to_csv('data.csv',mode='a+', index=False,  header=False)\n",
    "data17.to_csv('data.csv',mode='a+', index=False,  header=False)\n",
    "data18.to_csv('data.csv',mode='a+', index=False,  header=False)\n",
    "data19.to_csv('data.csv',mode='a+', index=False,  header=False)\n",
    "data20.to_csv('data.csv',mode='a+', index=False,  header=False)\n",
    "data21.to_csv('data.csv',mode='a+', index=False,  header=False)\n",
    "data22.to_csv('data.csv',mode='a+', index=False,  header=False)\n",
    "data23.to_csv('data.csv',mode='a+', index=False,  header=False)\n",
    "data24.to_csv('data.csv',mode='a+', index=False,  header=False)\n",
    "data25.to_csv('data.csv',mode='a+', index=False,  header=False)\n",
    "data26.to_csv('data.csv',mode='a+', index=False,  header=False)\n",
    "data27.to_csv('data.csv',mode='a+', index=False,  header=False)\n",
    "data28.to_csv('data.csv',mode='a+', index=False,  header=False)\n",
    "data29.to_csv('data.csv',mode='a+', index=False,  header=False)\n",
    "data30.to_csv('data.csv',mode='a+', index=False,  header=False)\n",
    "data31.to_csv('data.csv',mode='a+', index=False,  header=False)\n",
    "data32.to_csv('data.csv',mode='a+', index=False,  header=False)"
   ]
  },
  {
   "cell_type": "code",
   "execution_count": 35,
   "id": "35d749dd",
   "metadata": {},
   "outputs": [],
   "source": [
    "\n",
    "datapath = 'data.csv'\n",
    "data_all = pd.read_csv(datapath,usecols=['单价', '房屋所属市辖区', '房屋地址（街道）','房屋户型','所在楼层','建筑面积','户型结构','建筑类型','房屋朝向','建筑结构','装修情况','配备电梯','挂牌时间','交易权属','房屋用途'])"
   ]
  },
  {
   "cell_type": "code",
   "execution_count": 36,
   "id": "511965f1",
   "metadata": {},
   "outputs": [
    {
     "data": {
      "text/html": [
       "<div>\n",
       "<style scoped>\n",
       "    .dataframe tbody tr th:only-of-type {\n",
       "        vertical-align: middle;\n",
       "    }\n",
       "\n",
       "    .dataframe tbody tr th {\n",
       "        vertical-align: top;\n",
       "    }\n",
       "\n",
       "    .dataframe thead th {\n",
       "        text-align: right;\n",
       "    }\n",
       "</style>\n",
       "<table border=\"1\" class=\"dataframe\">\n",
       "  <thead>\n",
       "    <tr style=\"text-align: right;\">\n",
       "      <th></th>\n",
       "      <th>单价</th>\n",
       "      <th>房屋所属市辖区</th>\n",
       "      <th>房屋地址（街道）</th>\n",
       "      <th>房屋户型</th>\n",
       "      <th>所在楼层</th>\n",
       "      <th>建筑面积</th>\n",
       "      <th>户型结构</th>\n",
       "      <th>建筑类型</th>\n",
       "      <th>房屋朝向</th>\n",
       "      <th>建筑结构</th>\n",
       "      <th>装修情况</th>\n",
       "      <th>配备电梯</th>\n",
       "      <th>挂牌时间</th>\n",
       "      <th>交易权属</th>\n",
       "      <th>房屋用途</th>\n",
       "    </tr>\n",
       "  </thead>\n",
       "  <tbody>\n",
       "    <tr>\n",
       "      <th>0</th>\n",
       "      <td>102</td>\n",
       "      <td>成华</td>\n",
       "      <td>驷马桥</td>\n",
       "      <td>3室2厅1厨1卫</td>\n",
       "      <td>高楼层 (共6层)</td>\n",
       "      <td>111.02㎡</td>\n",
       "      <td>平层</td>\n",
       "      <td>板楼</td>\n",
       "      <td>南 北</td>\n",
       "      <td>砖混结构</td>\n",
       "      <td>毛坯</td>\n",
       "      <td>无</td>\n",
       "      <td>2021-02-21</td>\n",
       "      <td>拆迁安置房</td>\n",
       "      <td>普通住宅</td>\n",
       "    </tr>\n",
       "    <tr>\n",
       "      <th>1</th>\n",
       "      <td>200</td>\n",
       "      <td>成华</td>\n",
       "      <td>猛追湾</td>\n",
       "      <td>4室1厅1厨2卫</td>\n",
       "      <td>高楼层 (共9层)</td>\n",
       "      <td>144.42㎡</td>\n",
       "      <td>平层</td>\n",
       "      <td>板塔结合</td>\n",
       "      <td>南</td>\n",
       "      <td>框架结构</td>\n",
       "      <td>精装</td>\n",
       "      <td>有</td>\n",
       "      <td>2021-11-21</td>\n",
       "      <td>商品房</td>\n",
       "      <td>普通住宅</td>\n",
       "    </tr>\n",
       "    <tr>\n",
       "      <th>2</th>\n",
       "      <td>350</td>\n",
       "      <td>成华</td>\n",
       "      <td>驷马桥</td>\n",
       "      <td>7室4厅1厨4卫</td>\n",
       "      <td>低楼层 (共18层)</td>\n",
       "      <td>271.09㎡</td>\n",
       "      <td>跃层</td>\n",
       "      <td>板塔结合</td>\n",
       "      <td>南</td>\n",
       "      <td>钢混结构</td>\n",
       "      <td>简装</td>\n",
       "      <td>有</td>\n",
       "      <td>2021-12-03</td>\n",
       "      <td>商品房</td>\n",
       "      <td>普通住宅</td>\n",
       "    </tr>\n",
       "    <tr>\n",
       "      <th>3</th>\n",
       "      <td>113</td>\n",
       "      <td>成华</td>\n",
       "      <td>猛追湾</td>\n",
       "      <td>3室2厅1厨2卫</td>\n",
       "      <td>中楼层 (共7层)</td>\n",
       "      <td>113.41㎡</td>\n",
       "      <td>平层</td>\n",
       "      <td>板楼</td>\n",
       "      <td>南</td>\n",
       "      <td>混合结构</td>\n",
       "      <td>简装</td>\n",
       "      <td>无</td>\n",
       "      <td>2021-12-02</td>\n",
       "      <td>商品房</td>\n",
       "      <td>普通住宅</td>\n",
       "    </tr>\n",
       "    <tr>\n",
       "      <th>4</th>\n",
       "      <td>180</td>\n",
       "      <td>成华</td>\n",
       "      <td>驷马桥</td>\n",
       "      <td>3室2厅1厨2卫</td>\n",
       "      <td>中楼层 (共18层)</td>\n",
       "      <td>123.7㎡</td>\n",
       "      <td>平层</td>\n",
       "      <td>塔楼</td>\n",
       "      <td>南 北</td>\n",
       "      <td>钢混结构</td>\n",
       "      <td>毛坯</td>\n",
       "      <td>有</td>\n",
       "      <td>2021-12-14</td>\n",
       "      <td>商品房</td>\n",
       "      <td>普通住宅</td>\n",
       "    </tr>\n",
       "    <tr>\n",
       "      <th>...</th>\n",
       "      <td>...</td>\n",
       "      <td>...</td>\n",
       "      <td>...</td>\n",
       "      <td>...</td>\n",
       "      <td>...</td>\n",
       "      <td>...</td>\n",
       "      <td>...</td>\n",
       "      <td>...</td>\n",
       "      <td>...</td>\n",
       "      <td>...</td>\n",
       "      <td>...</td>\n",
       "      <td>...</td>\n",
       "      <td>...</td>\n",
       "      <td>...</td>\n",
       "      <td>...</td>\n",
       "    </tr>\n",
       "    <tr>\n",
       "      <th>23845</th>\n",
       "      <td>265</td>\n",
       "      <td>青羊</td>\n",
       "      <td>贝森</td>\n",
       "      <td>3室2厅1厨2卫</td>\n",
       "      <td>中楼层 (共8层)</td>\n",
       "      <td>114.29㎡</td>\n",
       "      <td>错层</td>\n",
       "      <td>板楼</td>\n",
       "      <td>南</td>\n",
       "      <td>混合结构</td>\n",
       "      <td>精装</td>\n",
       "      <td>无</td>\n",
       "      <td>2021-10-28</td>\n",
       "      <td>商品房</td>\n",
       "      <td>普通住宅</td>\n",
       "    </tr>\n",
       "    <tr>\n",
       "      <th>23846</th>\n",
       "      <td>暂无数据</td>\n",
       "      <td>青羊</td>\n",
       "      <td>宽窄巷子</td>\n",
       "      <td>2室1厅1厨1卫</td>\n",
       "      <td>中楼层 (共33层)</td>\n",
       "      <td>71.92㎡</td>\n",
       "      <td>平层</td>\n",
       "      <td>板楼</td>\n",
       "      <td>南</td>\n",
       "      <td>钢混结构</td>\n",
       "      <td>简装</td>\n",
       "      <td>有</td>\n",
       "      <td>2021-06-19</td>\n",
       "      <td>商品房</td>\n",
       "      <td>普通住宅</td>\n",
       "    </tr>\n",
       "    <tr>\n",
       "      <th>23847</th>\n",
       "      <td>暂无数据</td>\n",
       "      <td>青羊</td>\n",
       "      <td>宽窄巷子</td>\n",
       "      <td>2室2厅1厨1卫</td>\n",
       "      <td>中楼层 (共33层)</td>\n",
       "      <td>89.23㎡</td>\n",
       "      <td>平层</td>\n",
       "      <td>板楼</td>\n",
       "      <td>南</td>\n",
       "      <td>钢混结构</td>\n",
       "      <td>简装</td>\n",
       "      <td>有</td>\n",
       "      <td>2021-09-01</td>\n",
       "      <td>商品房</td>\n",
       "      <td>普通住宅</td>\n",
       "    </tr>\n",
       "    <tr>\n",
       "      <th>23848</th>\n",
       "      <td>198</td>\n",
       "      <td>青羊</td>\n",
       "      <td>外光华</td>\n",
       "      <td>2室1厅1厨1卫</td>\n",
       "      <td>低楼层 (共19层)</td>\n",
       "      <td>80.5㎡</td>\n",
       "      <td>平层</td>\n",
       "      <td>板塔结合</td>\n",
       "      <td>西北</td>\n",
       "      <td>钢混结构</td>\n",
       "      <td>简装</td>\n",
       "      <td>有</td>\n",
       "      <td>2021-02-08</td>\n",
       "      <td>商品房</td>\n",
       "      <td>普通住宅</td>\n",
       "    </tr>\n",
       "    <tr>\n",
       "      <th>23849</th>\n",
       "      <td>暂无数据</td>\n",
       "      <td>青羊</td>\n",
       "      <td>贝森</td>\n",
       "      <td>2室1厅1厨1卫</td>\n",
       "      <td>低楼层 (共18层)</td>\n",
       "      <td>52㎡</td>\n",
       "      <td>跃层</td>\n",
       "      <td>板塔结合</td>\n",
       "      <td>南</td>\n",
       "      <td>框架结构</td>\n",
       "      <td>简装</td>\n",
       "      <td>有</td>\n",
       "      <td>2019-06-10</td>\n",
       "      <td>商品房</td>\n",
       "      <td>普通住宅</td>\n",
       "    </tr>\n",
       "  </tbody>\n",
       "</table>\n",
       "<p>23850 rows × 15 columns</p>\n",
       "</div>"
      ],
      "text/plain": [
       "         单价 房屋所属市辖区 房屋地址（街道）      房屋户型        所在楼层     建筑面积 户型结构  建筑类型 房屋朝向  \\\n",
       "0       102      成华      驷马桥  3室2厅1厨1卫   高楼层 (共6层)  111.02㎡   平层    板楼  南 北   \n",
       "1       200      成华      猛追湾  4室1厅1厨2卫   高楼层 (共9层)  144.42㎡   平层  板塔结合    南   \n",
       "2       350      成华      驷马桥  7室4厅1厨4卫  低楼层 (共18层)  271.09㎡   跃层  板塔结合    南   \n",
       "3       113      成华      猛追湾  3室2厅1厨2卫   中楼层 (共7层)  113.41㎡   平层    板楼    南   \n",
       "4       180      成华      驷马桥  3室2厅1厨2卫  中楼层 (共18层)   123.7㎡   平层    塔楼  南 北   \n",
       "...     ...     ...      ...       ...         ...      ...  ...   ...  ...   \n",
       "23845   265      青羊       贝森  3室2厅1厨2卫   中楼层 (共8层)  114.29㎡   错层    板楼    南   \n",
       "23846  暂无数据      青羊     宽窄巷子  2室1厅1厨1卫  中楼层 (共33层)   71.92㎡   平层    板楼    南   \n",
       "23847  暂无数据      青羊     宽窄巷子  2室2厅1厨1卫  中楼层 (共33层)   89.23㎡   平层    板楼    南   \n",
       "23848   198      青羊      外光华  2室1厅1厨1卫  低楼层 (共19层)    80.5㎡   平层  板塔结合   西北   \n",
       "23849  暂无数据      青羊       贝森  2室1厅1厨1卫  低楼层 (共18层)      52㎡   跃层  板塔结合    南   \n",
       "\n",
       "       建筑结构 装修情况 配备电梯        挂牌时间   交易权属  房屋用途  \n",
       "0      砖混结构   毛坯    无  2021-02-21  拆迁安置房  普通住宅  \n",
       "1      框架结构   精装    有  2021-11-21    商品房  普通住宅  \n",
       "2      钢混结构   简装    有  2021-12-03    商品房  普通住宅  \n",
       "3      混合结构   简装    无  2021-12-02    商品房  普通住宅  \n",
       "4      钢混结构   毛坯    有  2021-12-14    商品房  普通住宅  \n",
       "...     ...  ...  ...         ...    ...   ...  \n",
       "23845  混合结构   精装    无  2021-10-28    商品房  普通住宅  \n",
       "23846  钢混结构   简装    有  2021-06-19    商品房  普通住宅  \n",
       "23847  钢混结构   简装    有  2021-09-01    商品房  普通住宅  \n",
       "23848  钢混结构   简装    有  2021-02-08    商品房  普通住宅  \n",
       "23849  框架结构   简装    有  2019-06-10    商品房  普通住宅  \n",
       "\n",
       "[23850 rows x 15 columns]"
      ]
     },
     "execution_count": 36,
     "metadata": {},
     "output_type": "execute_result"
    }
   ],
   "source": [
    "data_all"
   ]
  },
  {
   "cell_type": "markdown",
   "id": "ff356d0d",
   "metadata": {},
   "source": [
    "## 数据清洗 "
   ]
  },
  {
   "cell_type": "code",
   "execution_count": 37,
   "id": "a871ebef",
   "metadata": {},
   "outputs": [
    {
     "name": "stdout",
     "output_type": "stream",
     "text": [
      "(23850, 15)\n"
     ]
    }
   ],
   "source": [
    "print(data_all.shape)"
   ]
  },
  {
   "cell_type": "markdown",
   "id": "825d0a8f",
   "metadata": {},
   "source": [
    "## 去除重复行"
   ]
  },
  {
   "cell_type": "code",
   "execution_count": 38,
   "id": "27440791",
   "metadata": {},
   "outputs": [
    {
     "name": "stdout",
     "output_type": "stream",
     "text": [
      "去除重复行前，数据集的维度是：(23850, 15)\n",
      "存在重复行\n",
      "去除重复行后，数据集的维度是：(21433, 15)\n"
     ]
    }
   ],
   "source": [
    "def drop_duplicat_row(data_all):\n",
    "    \"\"\"\n",
    "    功能：\n",
    "        原数据集删除重复行\n",
    "    参数：\n",
    "        data_all是DataFrame的数据集，也是本项目所用的数据集\n",
    "\n",
    "    \"\"\"\n",
    "    # TODO\n",
    "    # 判断data_all是否存在重复行，若是存在，则打印\"存在重复行\"，同时，原数据集删除重复行，且保留最后一个重复行\n",
    "    copy=data_all.duplicated()\n",
    "    drop=np.array(copy.values)\n",
    "    if True in drop:\n",
    "        print(\"存在重复行\")\n",
    "    data_all.drop_duplicates(keep='last', inplace=True)\n",
    "    \n",
    "    \n",
    "print('去除重复行前，数据集的维度是：{}'.format(data_all.shape))\n",
    "drop_duplicat_row(data_all)\n",
    "print('去除重复行后，数据集的维度是：{}'.format(data_all.shape))"
   ]
  },
  {
   "cell_type": "markdown",
   "id": "c89836d0",
   "metadata": {},
   "source": [
    "## 去除缺失值 "
   ]
  },
  {
   "cell_type": "code",
   "execution_count": 39,
   "id": "571cf8d1",
   "metadata": {},
   "outputs": [
    {
     "data": {
      "text/plain": [
       "单价          False\n",
       "房屋所属市辖区     False\n",
       "房屋地址（街道）    False\n",
       "房屋户型         True\n",
       "所在楼层        False\n",
       "建筑面积        False\n",
       "户型结构         True\n",
       "建筑类型         True\n",
       "房屋朝向        False\n",
       "建筑结构         True\n",
       "装修情况         True\n",
       "配备电梯         True\n",
       "挂牌时间        False\n",
       "交易权属        False\n",
       "房屋用途        False\n",
       "dtype: bool"
      ]
     },
     "execution_count": 39,
     "metadata": {},
     "output_type": "execute_result"
    }
   ],
   "source": [
    "# 【这里其实是想判断每行是否存在缺失值，但由于行很多，这里用列数据中是否包含空值来分析，列中包含空值，行中也是包含空值的，可以达到相同目的】\n",
    "#查看每列数据中是否包含空值，False即不包含空值，True即包含空值。\n",
    "data_all.isnull().any()"
   ]
  },
  {
   "cell_type": "code",
   "execution_count": 40,
   "id": "e73db2f5",
   "metadata": {},
   "outputs": [
    {
     "name": "stdout",
     "output_type": "stream",
     "text": [
      "6595\n"
     ]
    }
   ],
   "source": [
    "l=['单价', '房屋所属市辖区', '房屋地址（街道）','房屋户型','所在楼层','建筑面积','户型结构','建筑类型','房屋朝向','建筑结构','装修情况','配备电梯','挂牌时间','交易权属','房屋用途']\n",
    "\n",
    "def change_s(data_all):\n",
    "    for i in l:\n",
    "        data_all.loc[data_all[i]=='暂无数据']=None\n",
    "\n",
    "\n",
    "\n",
    "\n",
    "\n",
    "def drop_nan(data_all):\n",
    "    \"\"\"\n",
    "    功能：\n",
    "        原数据集删除缺失值\n",
    "    参数：\n",
    "        data_all是DataFrame的数据集，也是本项目所用的数据集\n",
    "\n",
    "    \"\"\"\n",
    "    # TODO\n",
    "    # 计算含有空值的行的个数，并输出;若是存在含有空值的行，则本地删除含有空值的行数据\n",
    "    print(data_all.isnull().any(axis=1).sum())\n",
    "    data_all.dropna(axis=0, how='any', inplace=True)\n",
    "    \n",
    "    \n",
    "change_s(data_all)\n",
    "drop_nan(data_all)\n"
   ]
  },
  {
   "cell_type": "code",
   "execution_count": 41,
   "id": "4d0c043f",
   "metadata": {},
   "outputs": [
    {
     "name": "stdout",
     "output_type": "stream",
     "text": [
      "处理完缺失值后，数据集的维度是：(14838, 15)\n"
     ]
    }
   ],
   "source": [
    "# TODO\n",
    "#查看每列数据中是否包含空值，False即不包含空值，True即包含空值\n",
    "\n",
    "data_all.isnull().any()\n",
    "print('处理完缺失值后，数据集的维度是：{}'.format(data_all.shape))"
   ]
  },
  {
   "cell_type": "markdown",
   "id": "ce29d9f5",
   "metadata": {},
   "source": [
    "## 处理异常值 "
   ]
  },
  {
   "cell_type": "code",
   "execution_count": 42,
   "id": "b7b105e3",
   "metadata": {},
   "outputs": [],
   "source": [
    "# data_all['单价'].astype(float)\n",
    "data_all['单价']=data_all['单价'].apply(lambda x:float(x)*100.0)"
   ]
  },
  {
   "cell_type": "code",
   "execution_count": 43,
   "id": "dcf30637",
   "metadata": {},
   "outputs": [
    {
     "data": {
      "text/plain": [
       "0        111.02\n",
       "1        144.42\n",
       "2        271.09\n",
       "3        113.41\n",
       "4        123.70\n",
       "          ...  \n",
       "23842     87.22\n",
       "23843     58.06\n",
       "23844     80.60\n",
       "23845    114.29\n",
       "23848     80.50\n",
       "Name: 建筑面积, Length: 14838, dtype: float64"
      ]
     },
     "execution_count": 43,
     "metadata": {},
     "output_type": "execute_result"
    }
   ],
   "source": [
    "data_all['建筑面积']=data_all['建筑面积'].apply(lambda x:x[0:-1])\n",
    "data_all['建筑面积'].astype(float)"
   ]
  },
  {
   "cell_type": "code",
   "execution_count": 44,
   "id": "dc9fadd2",
   "metadata": {},
   "outputs": [
    {
     "name": "stdout",
     "output_type": "stream",
     "text": [
      "0\n"
     ]
    }
   ],
   "source": [
    "def error_data(data_all):\n",
    "    data_all.loc[data_all['单价']<0]=None\n",
    "    data_all.loc[data_all['建筑面积']<0]=None\n",
    "    \n",
    "\n",
    "drop_nan(data_all)"
   ]
  },
  {
   "cell_type": "code",
   "execution_count": 45,
   "id": "0e70807d",
   "metadata": {},
   "outputs": [
    {
     "name": "stdout",
     "output_type": "stream",
     "text": [
      "处理完缺失值后，数据集的维度是：(14838, 15)\n"
     ]
    }
   ],
   "source": [
    "print('处理完缺失值后，数据集的维度是：{}'.format(data_all.shape))"
   ]
  },
  {
   "cell_type": "code",
   "execution_count": 46,
   "id": "681c3d5d",
   "metadata": {},
   "outputs": [],
   "source": [
    "l=['单价（元/平方米）', '房屋所属市辖区', '房屋地址（街道）','房屋户型','所在楼层','建筑面积（平方米）','户型结构','建筑类型','房屋朝向','建筑结构','装修情况','配备电梯','挂牌时间','交易权属','房屋用途']\n",
    "data_all.to_csv('data_all.csv',index=False,header=l)"
   ]
  },
  {
   "cell_type": "code",
   "execution_count": null,
   "id": "8772de57",
   "metadata": {},
   "outputs": [],
   "source": []
  }
 ],
 "metadata": {
  "kernelspec": {
   "display_name": "Python 3",
   "language": "python",
   "name": "python3"
  },
  "language_info": {
   "codemirror_mode": {
    "name": "ipython",
    "version": 3
   },
   "file_extension": ".py",
   "mimetype": "text/x-python",
   "name": "python",
   "nbconvert_exporter": "python",
   "pygments_lexer": "ipython3",
   "version": "3.8.6"
  }
 },
 "nbformat": 4,
 "nbformat_minor": 5
}
